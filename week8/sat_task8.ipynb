{
 "cells": [
  {
   "cell_type": "markdown",
   "id": "7e66308e",
   "metadata": {},
   "source": [
    "# Definition\n",
    "Chi-Square Test\n",
    "A non-parametric test used to check whether there is a significant association between categorical variables.\n",
    "\n",
    "3 Types of Chi-Square Tests\n",
    "\n",
    "1.\tChi-Square Goodness of Fit Test Checks if sample data fits a population distribution.\n",
    "\tExample: Testing if dice rolls are equally distributed.\n",
    "\n",
    "\n",
    "2.\tChi-Square Test of Independence Checks if two categorical variables are related.\n",
    "\tExample: Testing if gender and choice of a subject are independent.\n",
    "\n",
    "3.\tChi-Square Test for Homogeneity Compares distributions of a categorical variable across different groups.\n",
    "\n",
    "# ANOVA (Analysis of Variance)\n",
    "A statistical test used to compare means of three or more groups to see if at least one group mean is significantly different.\n",
    "Types of ANOVA\n",
    "\n",
    "#\tOne-Way ANOVA\n",
    "\n",
    "\tCompares means of 3+ groups based on one factor.\n",
    "\tExample: Comparing test scores across 3 teaching methods.\n",
    "\n",
    "#\tTwo-Way ANOVA\n",
    "\tCompares means with two factors (can test interaction effects).\n",
    "\tExample: Effect of teaching method and gender on test scores.\n",
    "\n",
    "#\tRepeated Measures ANOVA\n",
    "\tUsed when the same subjects are measured multiple times under different conditions.\n",
    " Example of its usefulness: Measuring blood pressure of patients before, during, and after treatment.\n",
    "\n",
    "\n",
    "Two-Tailed Test\n",
    "A hypothesis test that checks for differences in both directions (greater than OR less than).\n",
    "\tExample: Testing if a new drug’s effect is either better or worse than a standard drug.\n",
    "\n",
    "\n",
    "# Proportion Test (testing proportions)\n",
    "When to use: compare a sample proportion to a known value or compare two proportions.\n",
    "(a)\tOne-sample proportion test (e.g., is p = 0.5?)\n",
    "(b)\tTwo-sample proportion test.\n",
    "\n",
    "Areas of Usage\n",
    "\tUsed to compare sample proportions to population proportions or between two groups.\n",
    "\tExample: Testing if the proportion of smokers in one city differs from the national average\n",
    "\n",
    "\n"
   ]
  }
 ],
 "metadata": {
  "language_info": {
   "name": "python"
  }
 },
 "nbformat": 4,
 "nbformat_minor": 5
}
